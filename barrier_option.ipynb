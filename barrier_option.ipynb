{
  "nbformat": 4,
  "nbformat_minor": 0,
  "metadata": {
    "colab": {
      "provenance": [],
      "authorship_tag": "ABX9TyPCniQBK2vzvW+mDrW27+Hr",
      "include_colab_link": true
    },
    "kernelspec": {
      "name": "python3",
      "display_name": "Python 3"
    },
    "language_info": {
      "name": "python"
    }
  },
  "cells": [
    {
      "cell_type": "markdown",
      "metadata": {
        "id": "view-in-github",
        "colab_type": "text"
      },
      "source": [
        "<a href=\"https://colab.research.google.com/github/newmantic/barrier_option/blob/main/barrier_option.ipynb\" target=\"_parent\"><img src=\"https://colab.research.google.com/assets/colab-badge.svg\" alt=\"Open In Colab\"/></a>"
      ]
    },
    {
      "cell_type": "code",
      "execution_count": 1,
      "metadata": {
        "colab": {
          "base_uri": "https://localhost:8080/"
        },
        "id": "LUizKSbgbSQ-",
        "outputId": "2508e941-7de0-4c76-d0f6-76424c58cb74"
      },
      "outputs": [
        {
          "output_type": "stream",
          "name": "stdout",
          "text": [
            "Expected Payoff: 6.70\n"
          ]
        }
      ],
      "source": [
        "import numpy as np\n",
        "\n",
        "class BarrierOption:\n",
        "    def __init__(self, option_type, barrier_type, initial_price, strike_price, barrier_level, maturity, risk_free_rate, volatility, rebate=0):\n",
        "        self.option_type = option_type  # 'call' or 'put'\n",
        "        self.barrier_type = barrier_type  # 'knock_in' or 'knock_out'\n",
        "        self.initial_price = initial_price\n",
        "        self.strike_price = strike_price\n",
        "        self.barrier_level = barrier_level\n",
        "        self.maturity = maturity\n",
        "        self.risk_free_rate = risk_free_rate\n",
        "        self.volatility = volatility\n",
        "        self.rebate = rebate  # Rebate paid if the option is knocked out (optional)\n",
        "\n",
        "    def simulate_price_path(self, n_steps, n_scenarios):\n",
        "        dt = self.maturity / n_steps\n",
        "        price_paths = np.zeros((n_steps + 1, n_scenarios))\n",
        "        price_paths[0] = self.initial_price\n",
        "\n",
        "        for t in range(1, n_steps + 1):\n",
        "            z = np.random.standard_normal(n_scenarios)\n",
        "            price_paths[t] = price_paths[t - 1] * np.exp((self.risk_free_rate - 0.5 * self.volatility ** 2) * dt + self.volatility * np.sqrt(dt) * z)\n",
        "\n",
        "        return price_paths\n",
        "\n",
        "    def is_knocked_in(self, price_path):\n",
        "        return np.any(price_path >= self.barrier_level) if self.option_type == 'call' else np.any(price_path <= self.barrier_level)\n",
        "\n",
        "    def is_knocked_out(self, price_path):\n",
        "        return np.any(price_path >= self.barrier_level) if self.option_type == 'call' else np.any(price_path <= self.barrier_level)\n",
        "\n",
        "    def calculate_payoff(self, price_path):\n",
        "        final_price = price_path[-1]\n",
        "\n",
        "        if self.barrier_type == 'knock_in':\n",
        "            if self.is_knocked_in(price_path):\n",
        "                return max(final_price - self.strike_price, 0) if self.option_type == 'call' else max(self.strike_price - final_price, 0)\n",
        "            else:\n",
        "                return self.rebate\n",
        "        elif self.barrier_type == 'knock_out':\n",
        "            if self.is_knocked_out(price_path):\n",
        "                return self.rebate\n",
        "            else:\n",
        "                return max(final_price - self.strike_price, 0) if self.option_type == 'call' else max(self.strike_price - final_price, 0)\n",
        "\n",
        "    def run_simulation(self, n_steps=252, n_scenarios=10000):\n",
        "        price_paths = self.simulate_price_path(n_steps, n_scenarios)\n",
        "        payoffs = np.zeros(n_scenarios)\n",
        "\n",
        "        for i in range(n_scenarios):\n",
        "            payoffs[i] = self.calculate_payoff(price_paths[:, i])\n",
        "\n",
        "        return np.mean(payoffs) * np.exp(-self.risk_free_rate * self.maturity)\n",
        "\n",
        "# Example usage\n",
        "if __name__ == \"__main__\":\n",
        "    option = BarrierOption(\n",
        "        option_type='call',\n",
        "        barrier_type='knock_in',\n",
        "        initial_price=100,\n",
        "        strike_price=105,\n",
        "        barrier_level=110,\n",
        "        maturity=1,\n",
        "        risk_free_rate=0.02,\n",
        "        volatility=0.2\n",
        "    )\n",
        "\n",
        "    expected_payoff = option.run_simulation()\n",
        "    print(f\"Expected Payoff: {expected_payoff:.2f}\")"
      ]
    }
  ]
}